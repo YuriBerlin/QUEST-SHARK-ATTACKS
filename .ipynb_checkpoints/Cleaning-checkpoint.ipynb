{
 "cells": [
  {
   "cell_type": "code",
   "execution_count": 1,
   "id": "79d95331",
   "metadata": {},
   "outputs": [],
   "source": [
    "import pandas as pd"
   ]
  },
  {
   "cell_type": "code",
   "execution_count": 5,
   "id": "095297f1",
   "metadata": {},
   "outputs": [],
   "source": [
    "def clean(df):\n",
    "    df.columns = df.columns.str.lower().str.replace(\" \", \"\")\n",
    "    df.drop(columns=['source','name','pdf','href','hrefformula','unnamed:11','casenumber', 'casenumber.1', 'originalorder', 'unnamed:21', 'unnamed:22'], inplace=True)\n",
    "    df.dropna(how ='all', inplace=True)\n",
    "    df['year'] = df['year'].apply(lambda i: int(i) if pd.notna(i) else i)\n",
    "    df.injury = df.injury.apply(lambda i: \"unknown\" if pd.isna(i) else i)\n",
    "    df.injury = df.injury.apply(lambda i: str(i))\n",
    "    df.injury = df.injury.apply(lambda i: i.lower())\n",
    "    df.age_numeric = pd.to_numeric(df.age, errors='coerce')\n",
    "    return df"
   ]
  }
 ],
 "metadata": {
  "kernelspec": {
   "display_name": "Python 3 (ipykernel)",
   "language": "python",
   "name": "python3"
  },
  "language_info": {
   "codemirror_mode": {
    "name": "ipython",
    "version": 3
   },
   "file_extension": ".py",
   "mimetype": "text/x-python",
   "name": "python",
   "nbconvert_exporter": "python",
   "pygments_lexer": "ipython3",
   "version": "3.11.5"
  }
 },
 "nbformat": 4,
 "nbformat_minor": 5
}
